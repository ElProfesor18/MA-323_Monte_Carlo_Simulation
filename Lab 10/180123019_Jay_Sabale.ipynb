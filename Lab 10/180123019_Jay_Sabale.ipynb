{
 "cells": [
  {
   "cell_type": "code",
   "execution_count": 5,
   "metadata": {},
   "outputs": [],
   "source": [
    "import numpy as np\n",
    "import math\n",
    "import scipy.stats as st\n",
    "import statistics"
   ]
  },
  {
   "cell_type": "code",
   "execution_count": 6,
   "metadata": {},
   "outputs": [],
   "source": [
    "M = [100, 1000, 10000, 100000]"
   ]
  },
  {
   "cell_type": "code",
   "execution_count": 16,
   "metadata": {},
   "outputs": [
    {
     "name": "stdout",
     "output_type": "stream",
     "text": [
      "95% Confidence Intervals for I_100 : (1.924477496140716, 2.111849580858568)\n",
      "Length of 95% Confidence Intervals for I_100 : 0.18737208471785216\n",
      "Average over Sample = 2.018163538499642\n",
      "\n",
      "\n",
      "\n",
      "95% Confidence Intervals for I_1000 : (1.973027791494147, 2.0272878445416977)\n",
      "Length of 95% Confidence Intervals for I_1000 : 0.05426005304755077\n",
      "Average over Sample = 2.0001578180179225\n",
      "\n",
      "\n",
      "\n",
      "95% Confidence Intervals for I_10000 : (1.9818509355583733, 1.9992577023154763)\n",
      "Length of 95% Confidence Intervals for I_10000 : 0.017406766757102954\n",
      "Average over Sample = 1.9905543189369248\n",
      "\n",
      "\n",
      "\n",
      "95% Confidence Intervals for I_100000 : (1.9956406776752098, 2.001123350258475)\n",
      "Length of 95% Confidence Intervals for I_100000 : 0.005482672583265069\n",
      "Average over Sample = 1.9983820139668425\n",
      "\n",
      "\n",
      "\n"
     ]
    }
   ],
   "source": [
    "L1 = []\n",
    "for N in M:\n",
    "    sample = []\n",
    "    for j in range(N):\n",
    "        ui = np.random.uniform(0, 1)\n",
    "        yi = math.exp(np.sqrt(ui))\n",
    "        sample.append(yi)\n",
    "    \n",
    "    res = st.t.interval(alpha=0.95, df=len(sample)-1, loc=np.mean(sample), scale=st.sem(sample)) \n",
    "    L1.append(res[1] - res[0])\n",
    "    \n",
    "    print(\"95% Confidence Intervals for I_{} : {}\".format(N, res))\n",
    "    print(\"Length of 95% Confidence Intervals for I_{} : {}\".format(N, L1[-1]))\n",
    "    print(\"Average over Sample = {}\".format(statistics.mean(sample)))\n",
    "    print(\"\\n\\n\")"
   ]
  },
  {
   "cell_type": "code",
   "execution_count": 17,
   "metadata": {},
   "outputs": [
    {
     "name": "stdout",
     "output_type": "stream",
     "text": [
      "95% Confidence Intervals for I_100 : (1.9939374443867492, 2.0064774252161057)\n",
      "Length of 95% Confidence Intervals for I_ 100 : 0.012539980829356479\n",
      "Average over Sample = 2.000207434801428\n",
      "\n",
      "\n",
      "\n",
      "95% Confidence Intervals for I_1000 : (1.9954295623467155, 1.9997271765481042)\n",
      "Length of 95% Confidence Intervals for I_ 1000 : 0.004297614201388633\n",
      "Average over Sample = 1.9975783694474099\n",
      "\n",
      "\n",
      "\n",
      "95% Confidence Intervals for I_10000 : (1.9989353456122279, 2.0002391865865845)\n",
      "Length of 95% Confidence Intervals for I_ 10000 : 0.0013038409743566515\n",
      "Average over Sample = 1.999587266099406\n",
      "\n",
      "\n",
      "\n",
      "95% Confidence Intervals for I_100000 : (1.9998169276071913, 2.000222055792834)\n",
      "Length of 95% Confidence Intervals for I_ 100000 : 0.0004051281856425337\n",
      "Average over Sample = 2.0000194917000127\n",
      "\n",
      "\n",
      "\n"
     ]
    }
   ],
   "source": [
    "L2 = []\n",
    "for N in M:\n",
    "    sample = []\n",
    "    for j in range(N):\n",
    "        ui = np.random.uniform(0, 1)\n",
    "        yi = (math.exp(np.sqrt(ui)) + math.exp(np.sqrt(1.00-ui)))/2.00\n",
    "        sample.append(yi)\n",
    "    \n",
    "    res = st.t.interval(alpha=0.95, df=len(sample)-1, loc=np.mean(sample), scale=st.sem(sample)) \n",
    "    L2.append(res[1] - res[0])\n",
    "\n",
    "    print(\"95% Confidence Intervals for I_{} : {}\".format(N, res))\n",
    "    print(\"Length of 95% Confidence Intervals for I_ {} : {}\".format(N, L2[-1]))\n",
    "    print(\"Average over Sample = {}\".format(statistics.mean(sample)))\n",
    "    print(\"\\n\\n\")"
   ]
  },
  {
   "cell_type": "code",
   "execution_count": 14,
   "metadata": {},
   "outputs": [
    {
     "name": "stdout",
     "output_type": "stream",
     "text": [
      "0 14.541491353514237\n",
      "1 12.967112899895282\n",
      "2 13.39182828691966\n",
      "3 13.494872947921088\n"
     ]
    }
   ],
   "source": [
    "for i in range(len(L1)):\n",
    "    print(i, L1[i]/L2[i])"
   ]
  },
  {
   "cell_type": "code",
   "execution_count": null,
   "metadata": {},
   "outputs": [],
   "source": []
  }
 ],
 "metadata": {
  "kernelspec": {
   "display_name": "Python 3",
   "language": "python",
   "name": "python3"
  },
  "language_info": {
   "codemirror_mode": {
    "name": "ipython",
    "version": 3
   },
   "file_extension": ".py",
   "mimetype": "text/x-python",
   "name": "python",
   "nbconvert_exporter": "python",
   "pygments_lexer": "ipython3",
   "version": "3.7.3"
  }
 },
 "nbformat": 4,
 "nbformat_minor": 2
}
