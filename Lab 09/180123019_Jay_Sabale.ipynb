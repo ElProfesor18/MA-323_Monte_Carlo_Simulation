{
 "cells": [
  {
   "cell_type": "code",
   "execution_count": 1,
   "metadata": {},
   "outputs": [],
   "source": [
    "import pandas as pd\n",
    "import numpy as np\n",
    "import statistics\n",
    "import math\n",
    "import matplotlib.pyplot as plt"
   ]
  },
  {
   "cell_type": "code",
   "execution_count": 2,
   "metadata": {},
   "outputs": [],
   "source": [
    "df = pd.read_csv('sbi_data.csv', usecols = ['Date', 'Close'], nrows = 66)"
   ]
  },
  {
   "cell_type": "code",
   "execution_count": 4,
   "metadata": {},
   "outputs": [],
   "source": [
    "U = []\n",
    "for i in range(65):\n",
    "    U.append( math.log(df.Close[i+1]/df.Close[i]))"
   ]
  },
  {
   "cell_type": "code",
   "execution_count": 6,
   "metadata": {},
   "outputs": [
    {
     "name": "stdout",
     "output_type": "stream",
     "text": [
      "0.0004964753607186511 0.022281727058705552\n"
     ]
    }
   ],
   "source": [
    "variance = statistics.variance(U)\n",
    "sigma = math.sqrt(variance)\n",
    "print(variance, sigma)"
   ]
  },
  {
   "cell_type": "code",
   "execution_count": 8,
   "metadata": {},
   "outputs": [
    {
     "name": "stdout",
     "output_type": "stream",
     "text": [
      "4.986838966067723e-05\n"
     ]
    }
   ],
   "source": [
    "mean = statistics.mean(U)\n",
    "print(mean)"
   ]
  },
  {
   "cell_type": "code",
   "execution_count": 9,
   "metadata": {},
   "outputs": [
    {
     "name": "stdout",
     "output_type": "stream",
     "text": [
      "0.0002981060700200028\n"
     ]
    }
   ],
   "source": [
    "mu = variance/2 + mean\n",
    "print(mu)\n",
    "\n",
    "S = []"
   ]
  },
  {
   "cell_type": "code",
   "execution_count": 30,
   "metadata": {},
   "outputs": [
    {
     "name": "stdout",
     "output_type": "stream",
     "text": [
      "Mean Asian = 18.984460974560918, S.D Asian = 11.836125218458445\n"
     ]
    }
   ],
   "source": [
    "data = []\n",
    "for i in range(1000):\n",
    "    data.append(0.00)\n",
    "\n",
    "N = 1000\n",
    "asian = []\n",
    "european = []\n",
    "for ctr in range(N):\n",
    "    S.clear()\n",
    "    S.append(df.Close[65])\n",
    "    \n",
    "    for i in range(1, 300):\n",
    "        S.append(S[i-1]*math.exp((mu - variance/2.00)*0.1 + np.sqrt(variance)*np.sqrt(0.1)*np.random.normal(0,1,1)))\n",
    "    \n",
    "    for j in range(len(S)):\n",
    "        data[j] += S[j]\n",
    "        \n",
    "    european.append(max(0, 1.1*S[0] - S[-1]))\n",
    "    asian.append(max(1.1*S[0] - statistics.mean(S), 0))\n",
    "    \n",
    "# print(\"Mean European = {}, S.D European = {}\".format(statistics.mean(european), np.sqrt(statistics.variance(european))))\n",
    "print(\"Mean Asian = {}, S.D Asian = {}\".format(statistics.mean(asian), np.sqrt(statistics.variance(asian))))\n",
    "\n",
    "while data[-1] == 0.00:\n",
    "    data.pop()\n",
    "    \n",
    "for j in range(len(data)):\n",
    "    data[j] /= N"
   ]
  },
  {
   "cell_type": "code",
   "execution_count": 34,
   "metadata": {},
   "outputs": [],
   "source": [
    "b = 0.00\n",
    "for i in range(len(asian)):\n",
    "    b = b + (asian[i] - statistics.mean(asian))*(european[i] - statistics.mean(european))/(1000*statistics.variance(european))\n",
    "\n",
    "for i in range(len(asian)):\n",
    "    asian[i] = asian[i] - b*(european[i] - statistics.mean(european))"
   ]
  },
  {
   "cell_type": "code",
   "execution_count": 35,
   "metadata": {},
   "outputs": [
    {
     "name": "stdout",
     "output_type": "stream",
     "text": [
      "Mean Asian = 18.984460974560918, S.D Asian = 6.571308642088533\n"
     ]
    }
   ],
   "source": [
    "print(\"Mean Asian = {}, S.D Asian = {}\".format(statistics.mean(asian), np.sqrt(statistics.variance(asian))))"
   ]
  },
  {
   "cell_type": "code",
   "execution_count": null,
   "metadata": {},
   "outputs": [],
   "source": []
  }
 ],
 "metadata": {
  "kernelspec": {
   "display_name": "Python 3",
   "language": "python",
   "name": "python3"
  },
  "language_info": {
   "codemirror_mode": {
    "name": "ipython",
    "version": 3
   },
   "file_extension": ".py",
   "mimetype": "text/x-python",
   "name": "python",
   "nbconvert_exporter": "python",
   "pygments_lexer": "ipython3",
   "version": "3.7.3"
  }
 },
 "nbformat": 4,
 "nbformat_minor": 2
}
