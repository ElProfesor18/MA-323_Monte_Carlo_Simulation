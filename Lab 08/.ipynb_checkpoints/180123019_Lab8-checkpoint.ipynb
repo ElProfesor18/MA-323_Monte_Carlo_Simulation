{
 "cells": [
  {
   "cell_type": "code",
   "execution_count": 1,
   "metadata": {},
   "outputs": [],
   "source": [
    "import numpy as np\n",
    "import matplotlib.pyplot as plt\n",
    "import math"
   ]
  },
  {
   "cell_type": "code",
   "execution_count": 4,
   "metadata": {},
   "outputs": [
    {
     "name": "stdout",
     "output_type": "stream",
     "text": [
      "Mu = 0.0002981060700200028, Sigma_Sq = 0.0004964753607186511, Sigma = 0.022281727058705552\n"
     ]
    }
   ],
   "source": [
    "import pandas as pd\n",
    "import statistics\n",
    "\n",
    "df = pd.read_csv('sbi_data.csv', usecols = ['Date', 'Close'], nrows = 66)\n",
    "\n",
    "U = []\n",
    "for i in range(65):\n",
    "    U.append( math.log(df.Close[i+1]/df.Close[i]) )\n",
    "\n",
    "sigma_sq = statistics.variance(U)\n",
    "sigma = math.sqrt(sigma_sq)\n",
    "\n",
    "mean = statistics.mean(U)\n",
    "\n",
    "mu = sigma_sq/2 + mean\n",
    "print(\"Mu = {}, Sigma_Sq = {}, Sigma = {}\".format(mu, sigma_sq, sigma))"
   ]
  },
  {
   "cell_type": "code",
   "execution_count": 5,
   "metadata": {},
   "outputs": [],
   "source": [
    "lambda_ = [0.01, 0.05, 0.1, 0.2]"
   ]
  },
  {
   "cell_type": "code",
   "execution_count": 10,
   "metadata": {},
   "outputs": [],
   "source": [
    "X = {}\n",
    "Tj = 0\n",
    "X[Tj] = df.Close[65]\n",
    "xAxis = []\n",
    "yAxis = []\n",
    "for ctr in range(1000):\n",
    "    u = np.random.uniform(0, 1)\n",
    "    Rj_ = -math.log(u)/lambda_[0]\n",
    "    Zj_ = np.random.normal(0, 1, 1)\n",
    "    Yj_ = np.random.uniform(0, 1, 1)\n",
    "    \n",
    "#     print(Rj_, Yj_)\n",
    "    key = X[Tj] + (mu - sigma_sq/2)*Rj_ + sigma*math.sqrt(Rj_)*np.random.normal(0, 1, 1) + math.log(Yj_)\n",
    "    Tj_ = Tj + Rj_\n",
    "    Tj = Tj_\n",
    "    X[Tj] = key\n",
    "    \n",
    "    xAxis.append(Tj_)\n",
    "    yAxis.append(key)"
   ]
  },
  {
   "cell_type": "code",
   "execution_count": null,
   "metadata": {},
   "outputs": [],
   "source": []
  },
  {
   "cell_type": "code",
   "execution_count": null,
   "metadata": {},
   "outputs": [],
   "source": []
  }
 ],
 "metadata": {
  "kernelspec": {
   "display_name": "Python 3",
   "language": "python",
   "name": "python3"
  },
  "language_info": {
   "codemirror_mode": {
    "name": "ipython",
    "version": 3
   },
   "file_extension": ".py",
   "mimetype": "text/x-python",
   "name": "python",
   "nbconvert_exporter": "python",
   "pygments_lexer": "ipython3",
   "version": "3.7.3"
  }
 },
 "nbformat": 4,
 "nbformat_minor": 2
}
