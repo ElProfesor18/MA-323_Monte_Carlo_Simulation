{
 "cells": [
  {
   "cell_type": "code",
   "execution_count": 23,
   "metadata": {},
   "outputs": [],
   "source": [
    "import math\n",
    "import random\n",
    "import numpy as np\n",
    "import pandas as pd\n",
    "import matplotlib.pyplot as plt\n",
    "\n",
    "L = [10, 20, 50, 100]\n",
    "U = []\n",
    "\n",
    "# Generating U from Linear Congruence Generator\n",
    "m = 244944\n",
    "a = 1597\n",
    "b = 0\n",
    "x0 = 1\n",
    "for i in range(0, 10000):\n",
    "    x= (a*x0 + b)%m\n",
    "    U.append((x*1.000)/(m*1.000))\n",
    "    x0= x"
   ]
  },
  {
   "cell_type": "code",
   "execution_count": 24,
   "metadata": {},
   "outputs": [],
   "source": [
    "df = pd.DataFrame()\n",
    "\n",
    "N = []\n",
    "Volume = []\n",
    "Discrepancy = []"
   ]
  },
  {
   "cell_type": "code",
   "execution_count": 25,
   "metadata": {},
   "outputs": [],
   "source": [
    "for n in L:\n",
    "    key = 0\n",
    "    vol = 1.00/(n*1.00)\n",
    "    NoOfValuesInInterval = [0 for i in range(0, n)]\n",
    "    \n",
    "    for i in range(0, 10000):\n",
    "        NoOfValuesInInterval[(int)(U[i]*n)]+=1\n",
    "    for i in range(0, n):\n",
    "        NoOfValuesInInterval[i]/=10000.00\n",
    "        key = max(key, abs(NoOfValuesInInterval[i]-Volume_A))\n",
    "    \n",
    "    N.append(n)\n",
    "    Volume.append(vol)\n",
    "    Discrepancy.append(key)\n",
    "    \n",
    "\n",
    "df['N'] = pd.Series(N)\n",
    "df['Volume'] = pd.Series(Volume)\n",
    "df['Discrepancy'] = pd.Series(Discrepancy)"
   ]
  },
  {
   "cell_type": "code",
   "execution_count": 26,
   "metadata": {},
   "outputs": [
    {
     "data": {
      "text/html": [
       "<div>\n",
       "<style scoped>\n",
       "    .dataframe tbody tr th:only-of-type {\n",
       "        vertical-align: middle;\n",
       "    }\n",
       "\n",
       "    .dataframe tbody tr th {\n",
       "        vertical-align: top;\n",
       "    }\n",
       "\n",
       "    .dataframe thead th {\n",
       "        text-align: right;\n",
       "    }\n",
       "</style>\n",
       "<table border=\"1\" class=\"dataframe\">\n",
       "  <thead>\n",
       "    <tr style=\"text-align: right;\">\n",
       "      <th></th>\n",
       "      <th>N</th>\n",
       "      <th>Volume</th>\n",
       "      <th>Discrepancy</th>\n",
       "    </tr>\n",
       "  </thead>\n",
       "  <tbody>\n",
       "    <tr>\n",
       "      <th>0</th>\n",
       "      <td>10</td>\n",
       "      <td>0.10</td>\n",
       "      <td>0.0911</td>\n",
       "    </tr>\n",
       "    <tr>\n",
       "      <th>1</th>\n",
       "      <td>20</td>\n",
       "      <td>0.05</td>\n",
       "      <td>0.0408</td>\n",
       "    </tr>\n",
       "    <tr>\n",
       "      <th>2</th>\n",
       "      <td>50</td>\n",
       "      <td>0.02</td>\n",
       "      <td>0.0109</td>\n",
       "    </tr>\n",
       "    <tr>\n",
       "      <th>3</th>\n",
       "      <td>100</td>\n",
       "      <td>0.01</td>\n",
       "      <td>0.0009</td>\n",
       "    </tr>\n",
       "  </tbody>\n",
       "</table>\n",
       "</div>"
      ],
      "text/plain": [
       "     N  Volume  Discrepancy\n",
       "0   10    0.10       0.0911\n",
       "1   20    0.05       0.0408\n",
       "2   50    0.02       0.0109\n",
       "3  100    0.01       0.0009"
      ]
     },
     "execution_count": 26,
     "metadata": {},
     "output_type": "execute_result"
    }
   ],
   "source": [
    "df"
   ]
  },
  {
   "cell_type": "code",
   "execution_count": null,
   "metadata": {},
   "outputs": [],
   "source": []
  }
 ],
 "metadata": {
  "kernelspec": {
   "display_name": "Python 3",
   "language": "python",
   "name": "python3"
  },
  "language_info": {
   "codemirror_mode": {
    "name": "ipython",
    "version": 3
   },
   "file_extension": ".py",
   "mimetype": "text/x-python",
   "name": "python",
   "nbconvert_exporter": "python",
   "pygments_lexer": "ipython3",
   "version": "3.7.3"
  }
 },
 "nbformat": 4,
 "nbformat_minor": 2
}
